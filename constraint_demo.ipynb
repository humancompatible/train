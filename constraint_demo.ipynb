{
 "cells": [
  {
   "cell_type": "markdown",
   "id": "1efc20cc",
   "metadata": {},
   "source": [
    "This notebook will demonstrate the `FairnessConstraint` class and how you can use it to **add a constraint formulation**."
   ]
  },
  {
   "cell_type": "code",
   "execution_count": 1,
   "id": "58feeb34",
   "metadata": {},
   "outputs": [],
   "source": [
    "from src.constraints import FairnessConstraint"
   ]
  }
 ],
 "metadata": {
  "kernelspec": {
   "display_name": "humancompatible",
   "language": "python",
   "name": "python3"
  },
  "language_info": {
   "codemirror_mode": {
    "name": "ipython",
    "version": 3
   },
   "file_extension": ".py",
   "mimetype": "text/x-python",
   "name": "python",
   "nbconvert_exporter": "python",
   "pygments_lexer": "ipython3",
   "version": "3.11.12"
  }
 },
 "nbformat": 4,
 "nbformat_minor": 5
}
